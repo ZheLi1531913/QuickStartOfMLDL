{
 "cells": [
  {
   "cell_type": "code",
   "execution_count": null,
   "metadata": {},
   "outputs": [],
   "source": [
    "\"\"\" CONTENT\n",
    "* The Basics\n",
    "    # An example\n",
    "    # Array creation\n",
    "    # printing arrays\n",
    "    # basic operations\n",
    "    # universal functions\n",
    "    # indexing slicing and iterating\n",
    "* Shape manipulation\n",
    "    # changing the shape of an array\n",
    "    # stacking together different arrays\n",
    "    # splitting one array into several smaller ones\n",
    "* Copies and Views\n",
    "    # No copy at all\n",
    "    # view or shallow copy\n",
    "    # deep copy\n",
    "    # functions and methods overview\n",
    "* Less basic\n",
    "    # Broadcasting rules\n",
    "* Fancy indexing and index tricks\n",
    "    # indexing with arrays of indices\n",
    "    # indexing with boolean arrays\n",
    "    # the ix_() function\n",
    "    # indexing with strings\n",
    "* Linear Algebra\n",
    "    # sipmle array operations\n",
    "* Tricks and tips\n",
    "    # 'Automatic' reshaping\n",
    "    # Vector stacking\n",
    "    # Histograms\n",
    "* Further reading\n",
    "\"\"\""
   ]
  },
  {
   "cell_type": "code",
   "execution_count": null,
   "metadata": {},
   "outputs": [],
   "source": [
    "\"\"\"\n",
    "* The Basics\n",
    "#   In NumPy dimensions are called axes, e.g.[[ 1., 0., 0.],[ 0., 1., 2.]]\n",
    "#   The first axis has a length of 2, the second axis has a length of 3;\n",
    "#   whereas axis = 0 means column, axis = 1 means row\n",
    "\"\"\" \n",
    "# ndarray.ndim : the number of axes\n",
    "# ndarray.shape : (n,m) n rows,m columns\n",
    "# ndarray.size : n*m the total number of elements \n",
    "# ndarray.dtype : data type. e.g.numpy.int32 / numpy.int16 / numpy.float64 / numpy.complex32\n",
    "# ndarray.itemsize : the size in bytes of each element of arrays; 8 = 64/8 for numpy.float64\n",
    "# ndarray.data : "
   ]
  },
  {
   "cell_type": "code",
   "execution_count": 1,
   "metadata": {},
   "outputs": [
    {
     "data": {
      "text/plain": [
       "numpy.ndarray"
      ]
     },
     "execution_count": 1,
     "metadata": {},
     "output_type": "execute_result"
    }
   ],
   "source": [
    "# An example\n",
    "import numpy as np\n",
    "arr1 = np.arange(15).reshape(3,5)\n",
    "arr2 = np.array([6,7,8])\n",
    "arr1.shape\n",
    "arr1.itemsize\n",
    "type(arr2)"
   ]
  },
  {
   "cell_type": "code",
   "execution_count": 7,
   "metadata": {},
   "outputs": [
    {
     "data": {
      "text/plain": [
       "6"
      ]
     },
     "execution_count": 7,
     "metadata": {},
     "output_type": "execute_result"
    }
   ],
   "source": [
    "# Array creation\n",
    "# 1. using list or tuple to create an araay\n",
    "a = np.array([1,2,3]) # np.array(1,2,3) is wrong\n",
    "b = np.array((1,2))\n",
    "c = np.array([[1,2],[2,3],[3,4]]) # array transforms sequences of sequences into two-dimensional arrays, and so on\n",
    "d = np.array([6,7,8],dtype = np.int32) # specifing the data type\n",
    "# placehold : known size of array\n",
    "np.zeros((2,3))  # recieve a tuple as parameter\n",
    "np.ones((3,4),dtype = np.int16)\n",
    "np.empty((2,3)) # the value of elements is random\n",
    "# \n",
    "np.arange(10,30,5)     # return arrays rather than lists\n",
    "np.arange(0,2,0.3)     # it eccepts float arguments\n",
    "np.linspace(0,2,9)     # total 9 numbers from 0 to 2\n",
    "np.random.rand(2,3)    # 2 rows and 3 columns,random number from 0 to 1\n",
    "np.random.randn(2,3)   # 2 rows and 3 columns,standard_normal,sigma * np.random.randn(...) + mu\n",
    "np.random.randint(3,8) # one int from 3 to 8"
   ]
  },
  {
   "cell_type": "code",
   "execution_count": 8,
   "metadata": {},
   "outputs": [
    {
     "name": "stdout",
     "output_type": "stream",
     "text": [
      "[[[ 0  1  2  3]\n",
      "  [ 4  5  6  7]\n",
      "  [ 8  9 10 11]]\n",
      "\n",
      " [[12 13 14 15]\n",
      "  [16 17 18 19]\n",
      "  [20 21 22 23]]]\n"
     ]
    }
   ],
   "source": [
    "# printing arrays\n",
    "\"\"\"\n",
    "the last axis is printed from left to right,\n",
    "the second-to-last is printed from top to bottom,\n",
    "the rest are also printed from top to bottom, with each slice separated from the next by an empty line.\n",
    "\"\"\"\n",
    "c = np.arange(24).reshape(2,3,4)\n",
    "print(c)"
   ]
  },
  {
   "cell_type": "code",
   "execution_count": 10,
   "metadata": {},
   "outputs": [
    {
     "name": "stdout",
     "output_type": "stream",
     "text": [
      "int32 float64 float64\n"
     ]
    },
    {
     "data": {
      "text/plain": [
       "array([[ 0,  1,  3,  6],\n",
       "       [ 4,  9, 15, 22],\n",
       "       [ 8, 17, 27, 38]], dtype=int32)"
      ]
     },
     "execution_count": 10,
     "metadata": {},
     "output_type": "execute_result"
    }
   ],
   "source": [
    "# basic operations\n",
    "## Arithmetic operators on arrays apply elementwise\n",
    "a = np.array( [20,30,40,50] )\n",
    "b = np.arange( 4 )\n",
    "c = a-b        # [20, 29, 38, 47]\n",
    "b**2           # [0,1,4,9]\n",
    "10*np.sin(a)   #\n",
    "a<35           # [ True, True, False, False]\n",
    "\n",
    "A = np.array( [[1,1],[0,1]] )\n",
    "B = np.array( [[2,0],[3,4]] )\n",
    "A*B            # elementwise product\n",
    "A@B            # matrix product\n",
    "A.dot(B)       # matrix product\n",
    "# += and *=, to modify an existing array rather than create a new one\n",
    "a = np.ones((2,3), dtype=int)\n",
    "b = np.random.random((2,3))\n",
    "a *= 3\n",
    "b += a\n",
    "# a += b    TypeError: b is not automatically converted to integer type\n",
    "\n",
    "# When operating with arrays of different types, the type of the resulting \n",
    "# array corresponds to the more general or precise one\n",
    "c = a+b\n",
    "print(a.dtype.name,b.dtype.name,c.dtype.name)\n",
    "\n",
    "# Methods of ndarray class,e.g. ndarray.sum(),ndarray.min(),ndarray.max()\n",
    "a = np.random.random((2,3))\n",
    "a.sum()\n",
    "a.min()\n",
    "a.max()\n",
    "b = np.arange(12).reshape(3,4)\n",
    "b.sum(axis=0)        # sum of each column\n",
    "b.min(axis=1)        # min of each row\n",
    "b.cumsum(axis=1)     # cumulative sum along each row"
   ]
  },
  {
   "cell_type": "code",
   "execution_count": 11,
   "metadata": {},
   "outputs": [
    {
     "data": {
      "text/plain": [
       "array([1.        , 2.71828183, 7.3890561 ])"
      ]
     },
     "execution_count": 11,
     "metadata": {},
     "output_type": "execute_result"
    }
   ],
   "source": [
    "# universal functions :  ufunc, 调用时用 numpy.ufunc()的形式，其不是ndarray class 的methods\n",
    "# these functions operate elementwise on an array, producing an array as output\n",
    "# e.g. np.sin(),np.cos(),np.exp(),np.sqrt(),np.add(a,b),np.floor() and ...\n",
    "# all, any, apply_along_axis, argmax, argmin, argsort, average, bincount, ceil, clip, \n",
    "# conj, corrcoef, cov, cross, cumprod, cumsum, diff, dot, floor, inner, inv, lexsort, \n",
    "# max, maximum, mean, median, min, minimum, nonzero, outer, prod, re, round, sort, std, \n",
    "# sum, trace, transpose, var, vdot, vectorize, where\n",
    "arr1 = np.arange(3)\n",
    "np.exp(arr1)"
   ]
  },
  {
   "cell_type": "code",
   "execution_count": 19,
   "metadata": {},
   "outputs": [
    {
     "name": "stdout",
     "output_type": "stream",
     "text": [
      "[[0 1 2]\n",
      " [3 4 5]]\n",
      "[[ 6  7  8]\n",
      " [ 9 10 11]]\n",
      "0\n",
      "1\n",
      "2\n",
      "3\n",
      "4\n",
      "5\n",
      "6\n",
      "7\n",
      "8\n",
      "9\n",
      "10\n",
      "11\n"
     ]
    }
   ],
   "source": [
    "# indexing slicing and iterating\n",
    "## one-dimentional\n",
    "a = np.arange(10)**2\n",
    "a[2]\n",
    "a[2:5]\n",
    "a[:6:2] = 100 # revise multi elements\n",
    "a[::-1]\n",
    "#for i in a:\n",
    "#    print(i**0.5)\n",
    "    \n",
    "# multi-dimentional\n",
    "b = np.arange(15).reshape(3,5)\n",
    "b[2,3]\n",
    "b[0:2,1]\n",
    "b[:,1]\n",
    "b[1:3,:]\n",
    "b[-1]    # equivalent to b[-1,:]\n",
    "c = np.arange(12).reshape(2,2,3)\n",
    "c[1,...]    # equivalent to c[1,:,:]\n",
    "c[...,2]    # equivalent to c[:,:,2]\n",
    "\n",
    "# Iterating over multidimensional arrays is done with respect to the first axis\n",
    "for arr1 in c:\n",
    "    print(arr1)\n",
    "# using flat attribute to perform an operation on each element\n",
    "for arr1 in c.flat:\n",
    "    print(arr1)"
   ]
  },
  {
   "cell_type": "code",
   "execution_count": 25,
   "metadata": {},
   "outputs": [
    {
     "data": {
      "text/plain": [
       "array([[5., 7., 3., 6., 2., 9.],\n",
       "       [8., 0., 3., 2., 4., 2.]])"
      ]
     },
     "execution_count": 25,
     "metadata": {},
     "output_type": "execute_result"
    }
   ],
   "source": [
    "\"\"\"\n",
    "* Shape manipulation\n",
    "ravel / reshape / T / resize /\n",
    "\"\"\"\n",
    "# 1.ravel / reshape / T  return a modified array, but do not change the original array\n",
    "a = np.floor(10*np.random.random((3,4))) # np.floor() 向下取整,np.round()四舍五入，np.ceil()向上取整\n",
    "a.ravel()       # return an array flattened\n",
    "                #“C-style”, that is, the rightmost index “changes the fastest”,按行存储\n",
    "a.reshape(6,2)  \n",
    "a.reshape(6,-1) # same as a.reshape(6,2),compute automatically\n",
    "a.T             # transpose\n",
    "# 2. ndarray.resize method modifies the array itself\n",
    "a.resize((2,6))  # return None, and modified the array itself\n",
    "a"
   ]
  },
  {
   "cell_type": "code",
   "execution_count": 29,
   "metadata": {},
   "outputs": [
    {
     "data": {
      "text/plain": [
       "array([[1, 4],\n",
       "       [2, 5],\n",
       "       [3, 6]])"
      ]
     },
     "execution_count": 29,
     "metadata": {},
     "output_type": "execute_result"
    }
   ],
   "source": [
    "# stacking together different arrays along different axes\n",
    "# np.vstack / np.hstack np.concatenate / np.r_ / np.c_ recieve a tuple as argument \n",
    "a = np.array([[1,2],[3,4]])\n",
    "b = np.array([[5,10],[6,8]])\n",
    "np.vstack((a,b))             # tuple (a,b)\n",
    "np.hstack((a,b))\n",
    "np.concatenate((a,b),axis=0) # same as np.vstack((a,b))\n",
    "np.concatenate((a,b),axis=1) # same as np.hstack((a,b))\n",
    "np.r_[np.array([1,2,3]), 0, 0, np.array([4,5,6])]\n",
    "np.r_[1:4,0,4]               # [1,2,3,0,4]\n",
    "np.c_[np.array([1,2,3]), np.array([4,5,6])]"
   ]
  },
  {
   "cell_type": "code",
   "execution_count": 33,
   "metadata": {},
   "outputs": [
    {
     "data": {
      "text/plain": [
       "[array([[ 0,  1,  2,  3,  4,  5],\n",
       "        [12, 13, 14, 15, 16, 17]]), array([[ 6,  7,  8,  9, 10, 11],\n",
       "        [18, 19, 20, 21, 22, 23]])]"
      ]
     },
     "execution_count": 33,
     "metadata": {},
     "output_type": "execute_result"
    }
   ],
   "source": [
    "# splitting one array into several smaller ones\n",
    "# np.hsplit() / np.vsplit() / np.array_split()\n",
    "a = np.arange(24).reshape(2,12)\n",
    "np.hsplit(a,3)        # Split 'a' into 3 arrays\n",
    "np.hsplit(a,(3,4))    # Split 'a' after the third and the fourth column\n",
    "np.array_split(a,2,axis=1) # axis = 1 corresponds to np.hsplit"
   ]
  },
  {
   "cell_type": "code",
   "execution_count": 34,
   "metadata": {},
   "outputs": [
    {
     "data": {
      "text/plain": [
       "True"
      ]
     },
     "execution_count": 34,
     "metadata": {},
     "output_type": "execute_result"
    }
   ],
   "source": [
    "\"\"\"\n",
    "* Copies and Views\n",
    "\"\"\"\n",
    "# No copy at all\n",
    "a = np.arange(12)\n",
    "b = a            # no new object is created\n",
    "b is a           # True   a and b are two names for the same ndarray object\n",
    "b.shape = 3,4    # changes the shape of a"
   ]
  },
  {
   "cell_type": "code",
   "execution_count": 44,
   "metadata": {},
   "outputs": [
    {
     "data": {
      "text/plain": [
       "array([[ 0, 10, 10,  3],\n",
       "       [ 4, 10, 10,  7],\n",
       "       [ 8, 10, 10, 11]])"
      ]
     },
     "execution_count": 44,
     "metadata": {},
     "output_type": "execute_result"
    }
   ],
   "source": [
    "# view or shallow copy\n",
    "# Different array objects can share the same data. 不同对象共享同一块数据\n",
    "# The view method creates a new array object that looks at the same data\n",
    "c = a.view()\n",
    "c is a             # False\n",
    "c.base is a        # True  # c is a view of the data owned by a\n",
    "c.flags.owndata    # False\n",
    "c.shape = 2,6      # a's shape doesn't change\n",
    "c[0,4] = 1234      # a's data changes\n",
    "\n",
    "# Slicing an array returns a view of it\n",
    "a = np.arange(12).reshape(3,4)\n",
    "s = a[ : , 1:3]\n",
    "s[:] = 10           # s[:] is a view of s.\n",
    "a                   # a's data changes"
   ]
  },
  {
   "cell_type": "code",
   "execution_count": 45,
   "metadata": {},
   "outputs": [],
   "source": [
    "# deep copy\n",
    "d = a.copy()      # d doesn't share anything with a"
   ]
  },
  {
   "cell_type": "code",
   "execution_count": 46,
   "metadata": {},
   "outputs": [
    {
     "data": {
      "text/plain": [
       "'\\nArray Creation\\n    arange, array, copy, empty, empty_like, eye, fromfile, fromfunction, identity, linspace, logspace, mgrid, ogrid, ones, ones_like, r, zeros, zeros_like\\nConversions\\n    ndarray.astype, atleast_1d, atleast_2d, atleast_3d, mat\\nManipulations\\n    array_split, column_stack, concatenate, diagonal, dsplit, dstack, hsplit, hstack, ndarray.item, newaxis, ravel, repeat, reshape, resize, squeeze, swapaxes, take, transpose, vsplit, vstack\\nQuestions\\n    all, any, nonzero, where\\nOrdering\\n    argmax, argmin, argsort, max, min, ptp, searchsorted, sort\\nOperations\\n    choose, compress, cumprod, cumsum, inner, ndarray.fill, imag, prod, put, putmask, real, sum\\nBasic Statistics\\n    cov, mean, std, var\\nBasic Linear Algebra\\n    cross, dot, outer, linalg.svd, vdot\\n'"
      ]
     },
     "execution_count": 46,
     "metadata": {},
     "output_type": "execute_result"
    }
   ],
   "source": [
    "# functions and methods overview\n",
    "\"\"\"\n",
    "Array Creation\n",
    "    arange, array, copy, empty, empty_like, eye, fromfile, fromfunction, identity, linspace, logspace, mgrid, ogrid, ones, ones_like, r, zeros, zeros_like\n",
    "Conversions\n",
    "    ndarray.astype, atleast_1d, atleast_2d, atleast_3d, mat\n",
    "Manipulations\n",
    "    array_split, column_stack, concatenate, diagonal, dsplit, dstack, hsplit, hstack, ndarray.item, newaxis, ravel, repeat, reshape, resize, squeeze, swapaxes, take, transpose, vsplit, vstack\n",
    "Questions\n",
    "    all, any, nonzero, where\n",
    "Ordering\n",
    "    argmax, argmin, argsort, max, min, ptp, searchsorted, sort\n",
    "Operations\n",
    "    choose, compress, cumprod, cumsum, inner, ndarray.fill, imag, prod, put, putmask, real, sum\n",
    "Basic Statistics\n",
    "    cov, mean, std, var\n",
    "Basic Linear Algebra\n",
    "    cross, dot, outer, linalg.svd, vdot\n",
    "\"\"\""
   ]
  },
  {
   "cell_type": "code",
   "execution_count": 53,
   "metadata": {},
   "outputs": [],
   "source": [
    "\"\"\"\n",
    "* Fancy indexing and index tricks\n",
    "\"\"\"\n",
    "# Indexing with Arrays of Indices 用下标数组进行引用,return an array\n",
    "a = np.arange(12)**2\n",
    "i = np.array( [ 1,1,3,8,5 ] ) \n",
    "a[i]\n",
    "j = np.array( [ [ 3, 4], [ 9, 7 ] ] )\n",
    "a[j]\n",
    "\n",
    "# When the indexed array a is multidimensional, a single array of indices refers to the first dimension of a. \n",
    "palette = np.array( [ [0,0,0],                # black\n",
    "                      [255,0,0],              # red\n",
    "                      [0,255,0],              # green\n",
    "                      [0,0,255],              # blue\n",
    "                      [255,255,255] ] )       # white\n",
    "image = np.array( [ [ 0, 1, 2, 0 ],           # each value corresponds to a color in the palette\n",
    "                    [ 0, 3, 4, 0 ]  ] )       # palette是2维，每个下标 参考的 是第一维度的值，如[0,0,0]\n",
    "palette[image]                                # the (2,4,3) color image\n",
    "\n",
    "# giving indexes for more than one dimension\n",
    "a = np.arange(12).reshape(3,4)\n",
    "i = np.array( [ [0,1],         # indices for the first dim of a\n",
    "                [1,2]])\n",
    "j = np.array( [ [2,1],         # indices for the second dim of a\n",
    "                [3,3]])\n",
    "a[i,j]                         # i and j must have equal shape\n",
    "                               # [[(0,2),(1,1)],\n",
    "                               #  [(1,3),(2,3)]]\n",
    "a[i,2]\n",
    "l = [i,j]\n",
    "a[l]\n",
    "\n",
    "#\n",
    "time = np.linspace(20, 145, 5)\n",
    "data = np.sin(np.arange(20)).reshape(5,4) \n",
    "ind = data.argmax(axis=0)          # np.argmax()   index of the maxima for each series\n",
    "time_max = time[ind]               # times corresponding to the maxima\n",
    "data_max = data[ind, range(data.shape[1])]"
   ]
  },
  {
   "cell_type": "code",
   "execution_count": 56,
   "metadata": {},
   "outputs": [
    {
     "data": {
      "text/plain": [
       "array([[0, 1, 2, 3],\n",
       "       [4, 0, 0, 0],\n",
       "       [0, 0, 0, 0]])"
      ]
     },
     "execution_count": 56,
     "metadata": {},
     "output_type": "execute_result"
    }
   ],
   "source": [
    "# Indexing with Boolean Arrays\n",
    "a = np.arange(12).reshape(3,4)\n",
    "b = a > 4                    # b is a boolean with a's shape\n",
    "a[b]                         # 1d array with the selected elements\n",
    "                             # [ 5,  6,  7,  8,  9, 10, 11]只留下True的值，shape改变了\n",
    "a[b] = 0                     # All elements of 'a' higher than 4 become 0\n",
    "\n",
    "#\n",
    "a = np.arange(12).reshape(3,4)\n",
    "b1 = np.array([False,True,True])             # first dim selection\n",
    "b2 = np.array([True,False,True,False])       # second dim selection\n",
    "a[b1,:]                                       # selecting rows,same as a[b1]\n",
    "a[:,b2]                                       # selecting columns\n",
    "a[b1,b2]                                     # a weird thing to do"
   ]
  },
  {
   "cell_type": "code",
   "execution_count": null,
   "metadata": {},
   "outputs": [],
   "source": [
    "# the ix_() function\n"
   ]
  },
  {
   "cell_type": "code",
   "execution_count": 57,
   "metadata": {},
   "outputs": [
    {
     "data": {
      "text/plain": [
       "(array([0.+1.j, 0.-1.j]),\n",
       " array([[0.70710678+0.j        , 0.70710678-0.j        ],\n",
       "        [0.        -0.70710678j, 0.        +0.70710678j]]))"
      ]
     },
     "execution_count": 57,
     "metadata": {},
     "output_type": "execute_result"
    }
   ],
   "source": [
    "# Simple Array Operations\n",
    "a = np.array([[1.0, 2.0], [3.0, 4.0]])\n",
    "a.transpose()\n",
    "np.linalg.inv(a)\n",
    "u = np.eye(2)\n",
    "j = np.array([[0.0, -1.0], [1.0, 0.0]])\n",
    "j @ j\n",
    "np.trace(u)\n",
    "y = np.array([[5.], [7.]])\n",
    "np.linalg.solve(a, y)\n",
    "np.linalg.eig(j)"
   ]
  },
  {
   "cell_type": "code",
   "execution_count": 58,
   "metadata": {},
   "outputs": [
    {
     "data": {
      "text/plain": [
       "array([[[ 0,  1,  2],\n",
       "        [ 3,  4,  5],\n",
       "        [ 6,  7,  8],\n",
       "        [ 9, 10, 11],\n",
       "        [12, 13, 14]],\n",
       "\n",
       "       [[15, 16, 17],\n",
       "        [18, 19, 20],\n",
       "        [21, 22, 23],\n",
       "        [24, 25, 26],\n",
       "        [27, 28, 29]]])"
      ]
     },
     "execution_count": 58,
     "metadata": {},
     "output_type": "execute_result"
    }
   ],
   "source": [
    "# Tricks and Tips\n",
    "# “Automatic” Reshaping ： -1\n",
    "a = np.arange(30)\n",
    "a.shape = 2,-1,3  # -1 means \"whatever is needed\"\n",
    "a\n",
    "\n"
   ]
  },
  {
   "cell_type": "code",
   "execution_count": null,
   "metadata": {},
   "outputs": [],
   "source": []
  }
 ],
 "metadata": {
  "kernelspec": {
   "display_name": "Python 3",
   "language": "python",
   "name": "python3"
  },
  "language_info": {
   "codemirror_mode": {
    "name": "ipython",
    "version": 3
   },
   "file_extension": ".py",
   "mimetype": "text/x-python",
   "name": "python",
   "nbconvert_exporter": "python",
   "pygments_lexer": "ipython3",
   "version": "3.6.5"
  }
 },
 "nbformat": 4,
 "nbformat_minor": 2
}
