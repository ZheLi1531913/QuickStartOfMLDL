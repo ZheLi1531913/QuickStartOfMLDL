{
 "cells": [
  {
   "cell_type": "code",
   "execution_count": 20,
   "metadata": {},
   "outputs": [
    {
     "data": {
      "text/plain": [
       "[('bar', 'one'),\n",
       " ('bar', 'two'),\n",
       " ('baz', 'one'),\n",
       " ('baz', 'two'),\n",
       " ('foo', 'one'),\n",
       " ('foo', 'two'),\n",
       " ('qux', 'one'),\n",
       " ('qux', 'two')]"
      ]
     },
     "execution_count": 20,
     "metadata": {},
     "output_type": "execute_result"
    }
   ],
   "source": [
    "\"\"\"\n",
    "zip(iterable1，iterable2) / zip(*iterables) 压缩和解压\n",
    "# 返回：一个zip对象，iterator\n",
    "# 参数：元组、列表、字典等可迭代对象\n",
    "\"\"\"\n",
    "a = [1,2,3]\n",
    "b = [4,5,6]\n",
    "c = [4,5,6,7,8]\n",
    "\n",
    "zipped = zip(a,b)  # 为节约内存，返回zip对象引用，需要用list将其转化为list\n",
    "list(zipped)       # [(1, 4), (2, 5), (3, 6)]\n",
    "list(zip(a,c))     # 元素个数与最短的列表一致\n",
    "\n",
    "# zip() in conjunction with the * operator can be used to unzip a list\n",
    "x,y = zip(*zip(a,b))  # x,y = zip(*zipped)报错？\n",
    "list(x)==a and list(y)==b  # True\n",
    "# list(zip(*zip(a,b)))   # [(1, 2, 3), (4, 5, 6)]\n",
    "\n",
    "tuples = list(zip(*[['bar', 'bar', 'baz', 'baz','foo', 'foo', 'qux', 'qux'],\n",
    "                    ['one', 'two', 'one', 'two','one', 'two', 'one', 'two']]))\n",
    "tuples\n",
    "list(zip(['bar', 'bar', 'baz', 'baz','foo', 'foo', 'qux', 'qux'],\n",
    "        ['one', 'two', 'one', 'two','one', 'two', 'one', 'two']))"
   ]
  },
  {
   "cell_type": "code",
   "execution_count": 24,
   "metadata": {},
   "outputs": [
    {
     "name": "stdout",
     "output_type": "stream",
     "text": [
      "None\n",
      "[1, 2, 3, 4, [1, 2]]\n",
      "[1, 2]\n",
      "ASD\n"
     ]
    }
   ],
   "source": [
    "# python中的函数返回值有时为None，有时为类对象\n",
    "# 一般来说，对可变数据类型，其一般返回None，直接修改该可变数据：modify itself\n",
    "a = [1,2,3,4]\n",
    "print(a.append([1,2])) # None\n",
    "print(a)               # [1, 2, 3, 4, [1, 2]]\n",
    "print(a[:2])           # [1, 2]切片返回一个新list\n",
    "\n",
    "str1 = 'asd'\n",
    "print(str1.upper())    # ASD"
   ]
  },
  {
   "cell_type": "code",
   "execution_count": 3,
   "metadata": {},
   "outputs": [
    {
     "name": "stdout",
     "output_type": "stream",
     "text": [
      "8189461258945142486\n",
      "989522582045032140\n"
     ]
    }
   ],
   "source": [
    "# hash(object): 返回对象的hash值\n",
    "# object 可以是str int float 自定义类对象，不能直接用于 list dict 和 set（这些可变类型亦called unhashable type）\n",
    "hash('test')\n",
    "hash(1)\n",
    "hash(str([1,2,3]))\n",
    "\n",
    "# hash 可用于md5 保密,确定内容有没有被修改过\n",
    "name1='正常程序代码'\n",
    "name2='正常程序代码带病毒'\n",
    "print(hash(name1)) # 8189461258945142486\n",
    "print(hash(name2)) # 989522582045032140"
   ]
  },
  {
   "cell_type": "code",
   "execution_count": 1,
   "metadata": {},
   "outputs": [
    {
     "name": "stdout",
     "output_type": "stream",
     "text": [
      "58356696408 58356696696 58356696768\n"
     ]
    }
   ],
   "source": [
    "\"\"\"\n",
    "Python中，数值类型（int和float）、字符串str、元组tuple都是不可变类型。而列表list、字典dict、集合set是可变类型\n",
    "不可变对象:变量(引用)指向的内存的值不允许被改变。当变量要改变时，实际上是把原来的值复制一份后再改变，开辟一个新的地\n",
    "址，新变量再指向这个新的地址，而原来引用对应的值因为不再有对象指向它,就会被垃圾回收\n",
    "\"\"\""
   ]
  },
  {
   "cell_type": "code",
   "execution_count": null,
   "metadata": {},
   "outputs": [],
   "source": []
  }
 ],
 "metadata": {
  "kernelspec": {
   "display_name": "Python 3",
   "language": "python",
   "name": "python3"
  },
  "language_info": {
   "codemirror_mode": {
    "name": "ipython",
    "version": 3
   },
   "file_extension": ".py",
   "mimetype": "text/x-python",
   "name": "python",
   "nbconvert_exporter": "python",
   "pygments_lexer": "ipython3",
   "version": "3.6.5"
  }
 },
 "nbformat": 4,
 "nbformat_minor": 2
}
