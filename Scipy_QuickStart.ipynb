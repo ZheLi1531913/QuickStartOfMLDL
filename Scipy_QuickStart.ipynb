{
 "cells": [
  {
   "cell_type": "code",
   "execution_count": null,
   "metadata": {},
   "outputs": [],
   "source": [
    "\"\"\"\n",
    "scipy是基于numpy的科学计算库，包括 插值、积分、优化、FFT、统计、信号处理、\n",
    "多维图片处理、IO、数据结构和算法、线代、稀疏特征值问题、特殊函数等子模块\n",
    " * Introduction\n",
    " * Basic functions\n",
    " * Special functions (scipy.special)\n",
    " * Integration (scipy.integrate)\n",
    " * Optimization (scipy.optimize)\n",
    " * Interpolation (scipy.interpolate)\n",
    " * Fourier Transforms (scipy.fftpack)\n",
    " * Signal Processing (scipy.signal)\n",
    " * Linear Algebra (scipy.linalg)\n",
    " * Sparse Eigenvalue Problems with ARPACK\n",
    " * Compressed Sparse Graph Routines (scipy.sparse.csgraph)\n",
    " * Spatial data structures and algorithms (scipy.spatial)\n",
    " * Statistics (scipy.stats)\n",
    " * Multidimensional image processing (scipy.ndimage)\n",
    " * File IO (scipy.io)\n",
    "\"\"\""
   ]
  },
  {
   "cell_type": "code",
   "execution_count": 2,
   "metadata": {},
   "outputs": [],
   "source": [
    "# io\n",
    "import numpy as np\n",
    "from scipy import io as spio\n",
    "a = np.ones((3,3))\n",
    "# spio.savemat('file_path',{'a':a}) # 保存matlab文件为字典格式\n",
    "# data = spio.loadmat('file_path')\n",
    "# data['a']\n",
    "from scipy import misc\n",
    "# data = misc.imread('123.png') # 读取图片\n",
    "# matplotlib.pyplot.imread('123.png') # \n",
    "\n",
    "# np.loadtxt() / np.savetxt()\n",
    "# np.genfromtxt() / np.recfromcsv()\n"
   ]
  },
  {
   "cell_type": "code",
   "execution_count": null,
   "metadata": {},
   "outputs": [],
   "source": [
    "# scipy.special 特殊函数\n",
    "\n",
    "# scipy.special.jn() 贝塞尔函数\n",
    "# scipy.special.ellipj() 椭圆函数\n",
    "# scipy.special.gamma() Gamma函数\n",
    "# scipy.special.erf() 高斯曲线的面积"
   ]
  },
  {
   "cell_type": "code",
   "execution_count": null,
   "metadata": {},
   "outputs": [],
   "source": [
    "# scipy.linalg\n",
    "\n",
    "# linalg.det(a)  # 求行列式\n",
    "# linalg.inv(a)  # 求逆\n",
    "# u,s,v = linalg.svd(a)  # 奇异值分解, s为a的特征值(一维)，降序排列\n",
    "                         # t = np.diag(s) ; a == u@t@v\n",
    "\n",
    "# 其他标准分解，如 QR / LU / Cholesky"
   ]
  },
  {
   "cell_type": "code",
   "execution_count": 3,
   "metadata": {},
   "outputs": [
    {
     "name": "stderr",
     "output_type": "stream",
     "text": [
      "c:\\users\\ljj\\appdata\\local\\programs\\python\\python36\\lib\\site-packages\\numpy\\core\\numeric.py:492: ComplexWarning: Casting complex values to real discards the imaginary part\n",
      "  return array(a, dtype, copy=False, order=order)\n"
     ]
    },
    {
     "data": {
      "text/plain": [
       "Text(0,0.5,'Amplitude')"
      ]
     },
     "execution_count": 3,
     "metadata": {},
     "output_type": "execute_result"
    }
   ],
   "source": [
    "# scipy.fftpack: FFT (fft / fftfreq / ifft)\n",
    "# 用FFT清除噪音，包括图片中的噪音或曲线\n",
    "from scipy import fftpack\n",
    "\n",
    "# 一个有噪音的信号\n",
    "time_step = 0.02\n",
    "period = 5.\n",
    "time_vec = np.arange(0, 20, time_step)\n",
    "sig = np.sin(2 * np.pi / period * time_vec) + \\\n",
    "       0.5 * np.random.randn(time_vec.size)\n",
    "\n",
    "# \n",
    "sample_freq = fftpack.fftfreq(sig.size, d=time_step)\n",
    "\n",
    "sig_fft = fftpack.fft(sig)  # array\n",
    "\n",
    "pidxs = np.where(sample_freq > 0)  # 只需要使用频谱为正的部分\n",
    "freqs = sample_freq[pidxs]\n",
    "power = np.abs(sig_fft)[pidxs]\n",
    "\n",
    "freq = freqs[power.argmax()]      # 寻找信号频率\n",
    "np.allclose(freq, 1./period)      # True 检查是否找到了正确的频率\n",
    "\n",
    "sig_fft[np.abs(sample_freq) > freq] = 0  # 将高频噪音从傅立叶转换过的信号移除\n",
    "\n",
    "main_sig = fftpack.ifft(sig_fft)  # 生成过滤过的信号,逆FFT\n",
    "\n",
    "import pylab as plt\n",
    "plt.figure()\n",
    "plt.plot(time_vec, sig)\n",
    "plt.plot(time_vec, main_sig, linewidth=3)\n",
    "plt.xlabel('Time [s]')\n",
    "plt.ylabel('Amplitude')\n"
   ]
  },
  {
   "cell_type": "code",
   "execution_count": 4,
   "metadata": {},
   "outputs": [
    {
     "name": "stdout",
     "output_type": "stream",
     "text": [
      "Optimization terminated successfully.\n",
      "         Current function value: -1.000000\n",
      "         Iterations: 2\n",
      "         Function evaluations: 9\n",
      "         Gradient evaluations: 3\n"
     ]
    },
    {
     "data": {
      "image/png": "[encoded data removed]",
      "text/plain": [
       "<Figure size 432x288 with 1 Axes>"
      ]
     },
     "metadata": {},
     "output_type": "display_data"
    },
    {
     "data": {
      "image/png": "[encoded data removed]",
      "text/plain": [
       "<Figure size 432x288 with 1 Axes>"
      ]
     },
     "metadata": {},
     "output_type": "display_data"
    },
    {
     "data": {
      "text/plain": [
       "array([3., 5., 9.])"
      ]
     },
     "execution_count": 4,
     "metadata": {},
     "output_type": "execute_result"
    }
   ],
   "source": [
    "# optimize : fmin_bfgs 梯度下降优化算法\n",
    "from scipy import optimize\n",
    "def f(x):\n",
    "    return x**2 - 2*x\n",
    "initial_x = 0  # 可能落入局部最小\n",
    "optimize.fmin_bfgs(f,initial_x)  \n",
    "\n",
    "# fmin()\n",
    "# fmin_cg()\n",
    "\n",
    "# 曲线拟合：curve_fit 最小二乘法\n",
    "import matplotlib.pyplot as plt\n",
    "def f1(x):\n",
    "    return x**2+10*np.sin(x)\n",
    "xdata = np.linspace(-10,10,20)\n",
    "ydata = f1(xdata) + np.random.randn(xdata.size)\n",
    "plt.scatter(xdata,ydata)\n",
    "plt.show()\n",
    "def f2(x,a,b):\n",
    "    return a*x**2+b*np.sin(x)\n",
    "guess = [2,2]\n",
    "params,params_covariance = optimize.curve_fit(f2,xdata,ydata,guess)\n",
    "x1 = np.linspace(-10,10,256)\n",
    "y1 = f2(x1,params[0],params[1])\n",
    "plt.plot(x1,y1)\n",
    "plt.show()\n",
    "\n",
    "# optimize.fsolve() 求解非线性方程组\n",
    "from scipy.optimize import fsolve\n",
    "def func(x):\n",
    "    x0,x1,x2 = x.tolist()\n",
    "    return [5*x1-25,5*x0*x0-x1*x2,x2*x0-27]\n",
    "initial_x = [1,1,1]\n",
    "result = fsolve(func,initial_x)\n",
    "result"
   ]
  },
  {
   "cell_type": "code",
   "execution_count": 5,
   "metadata": {},
   "outputs": [
    {
     "data": {
      "text/plain": [
       "Ttest_indResult(statistic=-1.2762166739053644, pvalue=0.21810083317846457)"
      ]
     },
     "execution_count": 5,
     "metadata": {},
     "output_type": "execute_result"
    }
   ],
   "source": [
    "# scipy.stats \n",
    "# ttest_ind  T检验\n",
    "from scipy import stats\n",
    "a = np.random.normal(0,1,size=10)\n",
    "b = np.random.normal(1,1,size=10)\n",
    "stats.ttest_ind(a,b)\n",
    "\n",
    "# 直方图和概论密度函数\n",
    "# 百分位数"
   ]
  },
  {
   "cell_type": "code",
   "execution_count": 6,
   "metadata": {},
   "outputs": [
    {
     "data": {
      "image/png": "[encoded data removed]",
      "text/plain": [
       "<Figure size 432x288 with 1 Axes>"
      ]
     },
     "metadata": {},
     "output_type": "display_data"
    },
    {
     "data": {
      "text/plain": [
       "<scipy.interpolate.interpolate.interp1d at 0x31e193f1d8>"
      ]
     },
     "execution_count": 6,
     "metadata": {},
     "output_type": "execute_result"
    }
   ],
   "source": [
    "# interpolate\n",
    "from scipy.interpolate import interp1d\n",
    "x = np.linspace(0,1,10)\n",
    "y = np.sin(2*np.pi*x)\n",
    "\n",
    "linear_interp = interp1d(x,y)  # 线性插值\n",
    "cubic_interp = interp1d(x,y,kind='cubic')  # 三次方插值\n",
    "\n",
    "\n",
    "computed_time = np.linspace(0,1,50)\n",
    "linear_res = linear_interp(computed_time)\n",
    "cubic_res = cubic_interp(computed_time)\n",
    "\n",
    "plt.plot(x,y,'o',ms=6,label='y')\n",
    "plt.plot(computed_time,linear_res,label='linear')\n",
    "plt.plot(computed_time,cubic_res,label='cubic')\n",
    "plt.legend()\n",
    "plt.show()\n",
    "\n",
    "linear_interp"
   ]
  },
  {
   "cell_type": "code",
   "execution_count": 9,
   "metadata": {},
   "outputs": [
    {
     "data": {
      "text/plain": [
       "(0.9999999999999999, 1.1102230246251564e-14)"
      ]
     },
     "execution_count": 9,
     "metadata": {},
     "output_type": "execute_result"
    }
   ],
   "source": [
    "# scipy.integrate 数值积分\n",
    "# quad(func,start,end)  返回结果和误差\n",
    "from scipy.integrate import quad\n",
    "res,err = quad(np.sin,0,np.pi/2)\n",
    "\n",
    "# fixed_quad / quadrature / romberg"
   ]
  },
  {
   "cell_type": "code",
   "execution_count": null,
   "metadata": {},
   "outputs": [],
   "source": [
    "# scipy.signal\n",
    "from scipy import signal\n",
    "import matplotlib.pyplot as plt\n",
    "# signal.detrend()  # 删除线性趋势\n",
    "# signal.resample(x,n)用FFT从信号x中抽出n个点"
   ]
  },
  {
   "cell_type": "code",
   "execution_count": null,
   "metadata": {},
   "outputs": [],
   "source": [
    "# scipy.ndimage\n",
    "from scipy import ndimage\n",
    "# 几何变换\n",
    "# 图像滤波器\n",
    "# 数学形态学: 腐蚀 扩张 开启 闭合"
   ]
  }
 ],
 "metadata": {
  "kernelspec": {
   "display_name": "Python 3",
   "language": "python",
   "name": "python3"
  },
  "language_info": {
   "codemirror_mode": {
    "name": "ipython",
    "version": 3
   },
   "file_extension": ".py",
   "mimetype": "text/x-python",
   "name": "python",
   "nbconvert_exporter": "python",
   "pygments_lexer": "ipython3",
   "version": "3.6.5"
  }
 },
 "nbformat": 4,
 "nbformat_minor": 2
}
