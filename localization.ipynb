{
 "cells": [
  {
   "cell_type": "code",
   "execution_count": 2,
   "metadata": {},
   "outputs": [
    {
     "name": "stdout",
     "output_type": "stream",
     "text": [
      "[0.07882352941176471, 0.07529411764705884, 0.22470588235294123, 0.4329411764705882, 0.18823529411764706]\n"
     ]
    }
   ],
   "source": [
    "\"\"\"\n",
    "例：F：失火，概率0.001；B：邻居告诉你失火，但撒谎概率0.1\n",
    "则P(F|B) = 0.0089,这个数字说明，当获得了额外信息（邻居的话，不一定很准，也是概率分布），\n",
    "预测失火的准确度将大大提高（从0.001升到0.0089），这就是sense利用BAYES公式 感知定位的原理\n",
    "1.连续的 变为卷积运算\n",
    "2.熵：Entropy=Σ(−p×log(p))\n",
    "entropy will decrease after the measurement update (sense) step \n",
    "and that entropy will increase after the movement step (move)\n",
    "entropy represents the amount of uncertainty in a system.\n",
    "The maximum uncertainty occurs when all positions have equal probabilities [0.2, 0.2, 0.2, 0.2, 0.2]\n",
    "the minimum uncertainty occurs when [0,1,0,0,0]\n",
    "Taking a measurement will decrease uncertainty and entropy,whereas the movement will increase uncertainty\n",
    "3. Summary of localization\n",
    "belief = probability\n",
    "sense = product followed by normalization 乘法，当world与感知相符时，乘大数；不符时，乘小数\n",
    "move = convolution or addition 加法，状态转换连续时就是 概率p和状态转换函数的卷积运算\n",
    "\"\"\"\n",
    "\n",
    "#Given the list motions=[1,1] which means the robot \n",
    "#moves right and then right again, compute the posterior \n",
    "#distribution if the robot first senses red, then moves \n",
    "#right one, then senses green, then moves right again, \n",
    "#starting with a uniform prior distribution.\n",
    "\n",
    "\n",
    "p=[0.2, 0.2, 0.2, 0.2, 0.2]\n",
    "world=['green', 'red', 'red', 'green', 'green'] # 实际上，路标会代替这里的‘red’、‘green’；\n",
    "                                        # 而且是整个场景的观测，是一张图片，因此须将图片嵌入到模型中作为measument\n",
    "# measurements = ['red', 'green']\n",
    "measurements = ['red', 'red']\n",
    "motions = [1,1]\n",
    "pHit = 0.6\n",
    "pMiss = 0.2\n",
    "pExact = 0.8\n",
    "pOvershoot = 0.1\n",
    "pUndershoot = 0.1\n",
    "\n",
    "def sense(p, Z):\n",
    "    \"\"\" \n",
    "    sense 就是 Bayes' rule\n",
    "    贝叶斯公式p(x|z)= p(z|x)p(x) / p(z) 其中p(x|z)为后验概率，measurement后的概率，p(x)为先验概率p，\n",
    "    p(z|x)是measurement probability,即在x处看到z的概率，相符时比较大pHit，在'red'处看到'red'概率大，看到'green'概率小\n",
    "    p(z) = sum( p(z|x)p(x) ) 为了归一化\n",
    "    \"\"\"\n",
    "    q=[]\n",
    "    for i in range(len(p)):\n",
    "        hit = (Z == world[i])\n",
    "        q.append(p[i] * (hit * pHit + (1-hit) * pMiss))\n",
    "    s = sum(q)\n",
    "    for i in range(len(q)):\n",
    "        q[i] = q[i] / s\n",
    "    return q\n",
    "\n",
    "def move(p, U):\n",
    "    # move 就是 全概率公式，Total Probability: p(xi t) = Σ p(xj t-1)p(xi | xj) \n",
    "    # p(xi | xj)为从位置xj 到 xi的概率 或 P(A) = Σ P(A|B)P(B) 这里求和即为卷积运算\n",
    "    q = []\n",
    "    for i in range(len(p)):\n",
    "        s = pExact * p[(i-U) % len(p)]\n",
    "        s = s + pOvershoot * p[(i-U-1) % len(p)]\n",
    "        s = s + pUndershoot * p[(i-U+1) % len(p)]\n",
    "        q.append(s)\n",
    "    return q\n",
    "#\n",
    "def loop(q,Zs,Us):\n",
    "    for i in range(len(Zs)):\n",
    "        q = sense(q,Zs[i])\n",
    "        q = move(q,Us[i])\n",
    "    return q\n",
    "p = loop(p,measurements,motions)\n",
    "#\n",
    "print(p)        \n"
   ]
  },
  {
   "cell_type": "code",
   "execution_count": null,
   "metadata": {},
   "outputs": [],
   "source": []
  }
 ],
 "metadata": {
  "kernelspec": {
   "display_name": "Python 3",
   "language": "python",
   "name": "python3"
  },
  "language_info": {
   "codemirror_mode": {
    "name": "ipython",
    "version": 3
   },
   "file_extension": ".py",
   "mimetype": "text/x-python",
   "name": "python",
   "nbconvert_exporter": "python",
   "pygments_lexer": "ipython3",
   "version": "3.6.5"
  }
 },
 "nbformat": 4,
 "nbformat_minor": 2
}
