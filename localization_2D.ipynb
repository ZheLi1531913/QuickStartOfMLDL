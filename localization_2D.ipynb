{
 "cells": [
  {
   "cell_type": "code",
   "execution_count": 5,
   "metadata": {},
   "outputs": [
    {
     "name": "stdout",
     "output_type": "stream",
     "text": [
      "[[0.01105981 0.02464042 0.06799663 0.04472487 0.02465153]\n",
      " [0.0071532  0.01017133 0.08696596 0.0798843  0.00935067]\n",
      " [0.00739737 0.00894373 0.11272965 0.35350723 0.04065549]\n",
      " [0.00910651 0.0071532  0.01434922 0.04313329 0.0364256 ]]\n"
     ]
    }
   ],
   "source": [
    "import numpy as np\n",
    "p = 0.05*np.ones((4,5))\n",
    "colors = np.array([['R','G','G','R','R'],\n",
    "          ['R','R','G','R','R'],\n",
    "          ['R','R','G','G','R'],\n",
    "          ['R','R','R','R','R']])\n",
    "measurements = np.array(['G','G','G','G','G'])\n",
    "motions = np.array([[0,0],[0,1],[1,0],[1,0],[0,1]])\n",
    "sensor_right = 0.7\n",
    "p_move = 0.8\n",
    "def sense(p,Z):\n",
    "    q = []\n",
    "    q1 = []\n",
    "    for i in range(p.shape[0]):\n",
    "        for j in range(p.shape[1]):\n",
    "            pHit = (Z==colors[i][j])\n",
    "            q1.append(pHit*p[i][j]*sensor_right+(1-pHit)*p[i][j]*(1-sensor_right))\n",
    "        q.append(q1)\n",
    "        q1 = []\n",
    "    sum_q = np.sum(q)\n",
    "    for i in range(p.shape[0]):\n",
    "        for j in range(p.shape[1]):\n",
    "            q[i][j] = q[i][j]/sum_q\n",
    "    return np.array(q)\n",
    "def move(p,U):\n",
    "    q = []\n",
    "    q1 = []\n",
    "    for i in range(len(p)):\n",
    "        for j in range(p.shape[1]):\n",
    "            s = p_move*(p[(i-U[0])%len(p)][(j-U[1])%(p.shape[1])]) +  (1-p_move)*p[i][j]\n",
    "            q1.append(s)\n",
    "        q.append(q1)\n",
    "        q1 = []\n",
    "    return np.array(q)\n",
    "def localize(q,colors,measurements,motions,sensor_right,p_move):\n",
    "    for i in range(len(measurements)):\n",
    "        q = move(q,motions[i])\n",
    "        q = sense(q,measurements[i])\n",
    "    return q\n",
    "p = localize(p,colors,measurements,motions,sensor_right,p_move)\n",
    "print(p)"
   ]
  },
  {
   "cell_type": "code",
   "execution_count": null,
   "metadata": {},
   "outputs": [],
   "source": []
  }
 ],
 "metadata": {
  "kernelspec": {
   "display_name": "Python 3",
   "language": "python",
   "name": "python3"
  },
  "language_info": {
   "codemirror_mode": {
    "name": "ipython",
    "version": 3
   },
   "file_extension": ".py",
   "mimetype": "text/x-python",
   "name": "python",
   "nbconvert_exporter": "python",
   "pygments_lexer": "ipython3",
   "version": "3.6.5"
  }
 },
 "nbformat": 4,
 "nbformat_minor": 2
}
