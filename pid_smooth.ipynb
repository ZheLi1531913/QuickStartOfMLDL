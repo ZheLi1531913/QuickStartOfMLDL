{
 "cells": [
  {
   "cell_type": "code",
   "execution_count": 20,
   "metadata": {},
   "outputs": [
    {
     "name": "stdout",
     "output_type": "stream",
     "text": [
      "[0.000, 0.000] -> [0.000, 0.000]\n",
      "[0.000, 1.000] -> [0.029, 0.971]\n",
      "[0.000, 2.000] -> [0.176, 1.824]\n",
      "[1.000, 2.000] -> [1.029, 1.971]\n",
      "[2.000, 2.000] -> [2.000, 2.000]\n",
      "[3.000, 2.000] -> [2.971, 2.029]\n",
      "[4.000, 2.000] -> [3.824, 2.176]\n",
      "[4.000, 3.000] -> [3.971, 3.029]\n",
      "[4.000, 4.000] -> [4.000, 4.000]\n"
     ]
    }
   ],
   "source": [
    "# import numpy as np\n",
    "from copy import deepcopy\n",
    "\n",
    "# thank you to EnTerr for posting this on our discussion forum\n",
    "def printpaths(path,newpath):\n",
    "    for old,new in zip(path,newpath):\n",
    "        print('['+ ', '.join('%.3f'%x for x in old) + \\\n",
    "               '] -> ['+ ', '.join('%.3f'%x for x in new) +']')\n",
    "\n",
    "# Don't modify path inside your function.\n",
    "path = [[0, 0],\n",
    "        [0, 1],\n",
    "        [0, 2],\n",
    "        [1, 2],\n",
    "        [2, 2],\n",
    "        [3, 2],\n",
    "        [4, 2],\n",
    "        [4, 3],\n",
    "        [4, 4]]\n",
    "\n",
    "def smooth(path, weight_data = 0.5, weight_smooth = 0.1, tolerance = 0.000001):\n",
    "    # 优化目标：Σ(yi-xi)^2 + Σ(yi-y[i+1])^2  其中xi为planning点的位置，yi为优化后的点，这里是2D点；\n",
    "    # 梯度下降优化:yi := yi + alpha (xi - yi) + beta (yi + 1 + yi - 1 - 2 * yi)\n",
    "    # 直到 相邻两次点的 误差和 达到tolerance\n",
    "    # 不优化第一和最后一个点\n",
    "\n",
    "    # Make a deep copy of path into newpath\n",
    "    newpath = deepcopy(path)\n",
    "\n",
    "    #######################\n",
    "    assert len(path) > 2\n",
    "    \n",
    "    loop  = True\n",
    "    while loop:\n",
    "        err = 0\n",
    "        for i in range(1,len(path)-1):\n",
    "            for j in range(len(path[0])):\n",
    "                aux = newpath[i][j]\n",
    "                newpath[i][j] = newpath[i][j] + weight_data*(path[i][j]-newpath[i][j])\n",
    "                newpath[i][j] = newpath[i][j] + weight_smooth*(newpath[i-1][j]+newpath[i+1][j]-2*newpath[i][j])\n",
    "                err += abs(aux - newpath[i][j])\n",
    "\n",
    "                \n",
    "        if err < tolerance:\n",
    "            loop = False\n",
    "    \n",
    "    return newpath # Leave this line for the grader!\n",
    "\n",
    "printpaths(path,smooth(path))\n"
   ]
  },
  {
   "cell_type": "code",
   "execution_count": null,
   "metadata": {},
   "outputs": [],
   "source": []
  },
  {
   "cell_type": "code",
   "execution_count": null,
   "metadata": {},
   "outputs": [],
   "source": []
  }
 ],
 "metadata": {
  "kernelspec": {
   "display_name": "Python 3",
   "language": "python",
   "name": "python3"
  },
  "language_info": {
   "codemirror_mode": {
    "name": "ipython",
    "version": 3
   },
   "file_extension": ".py",
   "mimetype": "text/x-python",
   "name": "python",
   "nbconvert_exporter": "python",
   "pygments_lexer": "ipython3",
   "version": "3.6.5"
  }
 },
 "nbformat": 4,
 "nbformat_minor": 2
}
